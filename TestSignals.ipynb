{
 "cells": [
  {
   "cell_type": "code",
   "execution_count": 4,
   "metadata": {},
   "outputs": [
    {
     "name": "stdout",
     "output_type": "stream",
     "text": [
      "Final profit/loss: $0.00\n"
     ]
    }
   ],
   "source": [
    "import pandas as pd\n",
    "\n",
    "\n",
    "url = 'https://raw.githubusercontent.com/Jpaku93/ML_Stock_Regression/main/MES%2006-21.Last.txt'\n",
    "\n",
    "# Load the stock price data\n",
    "data = pd.read_csv(url, names=['time', 'open', 'high', 'low', 'close', 'volume'], delimiter = \";\", index_col='time')\n",
    "data = data.drop_duplicates()\n",
    "\n",
    "# Define a function that takes in a stock price and returns a \"buy\" or \"sell\" signal\n",
    "def get_signal(price):\n",
    "    # This is a simple example that buys when the price is below 50 and sells when it is above 50\n",
    "    if price < 50:\n",
    "        return \"buy\"\n",
    "    else:\n",
    "        return \"sell\"\n",
    "\n",
    "# Iterate over the stock prices and apply the get_signal function\n",
    "signals = data[\"close\"].apply(get_signal)\n",
    "\n",
    "# Calculate the profit or loss for each signal\n",
    "profits = []\n",
    "capital = 100000\n",
    "shares = 0\n",
    "\n",
    "for i in range(len(data)):\n",
    "    price = data[\"close\"][i]\n",
    "    signal = signals[i]\n",
    "\n",
    "    # Buy shares if the signal is \"buy\" and there is sufficient capital\n",
    "    if signal == \"buy\" and capital >= price:\n",
    "        shares += capital // price\n",
    "        capital -= price * shares\n",
    "\n",
    "    # Sell shares if the signal is \"sell\" and there are shares to sell\n",
    "    elif signal == \"sell\" and shares > 0:\n",
    "        capital += price * shares\n",
    "        shares = 0\n",
    "\n",
    "    # Calculate the profit or loss for this time step\n",
    "    profit = capital + shares * price - 100000\n",
    "    profits.append(profit)\n",
    "\n",
    "# Calculate the final profit or loss\n",
    "final_profit = profits[-1]\n",
    "print(f\"Final profit/loss: ${final_profit:.2f}\")"
   ]
  },
  {
   "cell_type": "code",
   "execution_count": null,
   "metadata": {},
   "outputs": [],
   "source": []
  }
 ],
 "metadata": {
  "kernelspec": {
   "display_name": "Python 3.9.13 ('NN')",
   "language": "python",
   "name": "python3"
  },
  "language_info": {
   "codemirror_mode": {
    "name": "ipython",
    "version": 3
   },
   "file_extension": ".py",
   "mimetype": "text/x-python",
   "name": "python",
   "nbconvert_exporter": "python",
   "pygments_lexer": "ipython3",
   "version": "3.9.13"
  },
  "orig_nbformat": 4,
  "vscode": {
   "interpreter": {
    "hash": "d2bbf9b39552de518c2cf132a5d3c1482c1c4ab5c51a1ed695cc23bb53034ccb"
   }
  }
 },
 "nbformat": 4,
 "nbformat_minor": 2
}
