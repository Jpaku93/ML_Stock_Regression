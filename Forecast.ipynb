{
 "cells": [
  {
   "cell_type": "code",
   "execution_count": 8,
   "metadata": {},
   "outputs": [
    {
     "ename": "ModuleNotFoundError",
     "evalue": "No module named 'create_feature_set'",
     "output_type": "error",
     "traceback": [
      "\u001b[1;31m---------------------------------------------------------------------------\u001b[0m",
      "\u001b[1;31mModuleNotFoundError\u001b[0m                       Traceback (most recent call last)",
      "\u001b[1;32mc:\\Users\\Acer\\SideProject\\ChartTradingSignals\\ChartTradingSignals\\Forecast.ipynb Cell 1\u001b[0m in \u001b[0;36m<cell line: 16>\u001b[1;34m()\u001b[0m\n\u001b[0;32m      <a href='vscode-notebook-cell:/c%3A/Users/Acer/SideProject/ChartTradingSignals/ChartTradingSignals/Forecast.ipynb#W0sZmlsZQ%3D%3D?line=5'>6</a>\u001b[0m \u001b[39mimport\u001b[39;00m \u001b[39mplotly\u001b[39;00m\u001b[39m.\u001b[39;00m\u001b[39mexpress\u001b[39;00m \u001b[39mas\u001b[39;00m \u001b[39mpx\u001b[39;00m\n\u001b[0;32m      <a href='vscode-notebook-cell:/c%3A/Users/Acer/SideProject/ChartTradingSignals/ChartTradingSignals/Forecast.ipynb#W0sZmlsZQ%3D%3D?line=6'>7</a>\u001b[0m \u001b[39m# try:\u001b[39;00m\n\u001b[0;32m      <a href='vscode-notebook-cell:/c%3A/Users/Acer/SideProject/ChartTradingSignals/ChartTradingSignals/Forecast.ipynb#W0sZmlsZQ%3D%3D?line=7'>8</a>\u001b[0m \u001b[39m#     import prophet\u001b[39;00m\n\u001b[0;32m      <a href='vscode-notebook-cell:/c%3A/Users/Acer/SideProject/ChartTradingSignals/ChartTradingSignals/Forecast.ipynb#W0sZmlsZQ%3D%3D?line=8'>9</a>\u001b[0m \u001b[39m# except:\u001b[39;00m\n\u001b[1;32m   (...)\u001b[0m\n\u001b[0;32m     <a href='vscode-notebook-cell:/c%3A/Users/Acer/SideProject/ChartTradingSignals/ChartTradingSignals/Forecast.ipynb#W0sZmlsZQ%3D%3D?line=13'>14</a>\u001b[0m \u001b[39m# except:\u001b[39;00m\n\u001b[0;32m     <a href='vscode-notebook-cell:/c%3A/Users/Acer/SideProject/ChartTradingSignals/ChartTradingSignals/Forecast.ipynb#W0sZmlsZQ%3D%3D?line=14'>15</a>\u001b[0m \u001b[39m#   !wget https://raw.githubusercontent.com/Jpaku93/ML_Stock_Regression/main/create_feature_set.py\u001b[39;00m\n\u001b[1;32m---> <a href='vscode-notebook-cell:/c%3A/Users/Acer/SideProject/ChartTradingSignals/ChartTradingSignals/Forecast.ipynb#W0sZmlsZQ%3D%3D?line=15'>16</a>\u001b[0m \u001b[39mfrom\u001b[39;00m \u001b[39mcreate_feature_set\u001b[39;00m \u001b[39mimport\u001b[39;00m define_indicators_features\n\u001b[0;32m     <a href='vscode-notebook-cell:/c%3A/Users/Acer/SideProject/ChartTradingSignals/ChartTradingSignals/Forecast.ipynb#W0sZmlsZQ%3D%3D?line=16'>17</a>\u001b[0m \u001b[39mfrom\u001b[39;00m \u001b[39mpycaret\u001b[39;00m\u001b[39m.\u001b[39;00m\u001b[39mregression\u001b[39;00m \u001b[39mimport\u001b[39;00m setup , compare_models , create_model , tune_model , plot_model , predict_model , finalize_model , save_model , load_model, evaluate_model\n\u001b[0;32m     <a href='vscode-notebook-cell:/c%3A/Users/Acer/SideProject/ChartTradingSignals/ChartTradingSignals/Forecast.ipynb#W0sZmlsZQ%3D%3D?line=17'>18</a>\u001b[0m \u001b[39mdef\u001b[39;00m \u001b[39mcall_data\u001b[39m(URL): \u001b[39m## function to call data TXT FILE\u001b[39;00m\n",
      "\u001b[1;31mModuleNotFoundError\u001b[0m: No module named 'create_feature_set'"
     ]
    }
   ],
   "source": [
    "import numpy as np # linear algebra\n",
    "import pandas as pd # data processing, CSV file I/O (e.g. pd.read_csv)\n",
    "import matplotlib.pyplot as plt\n",
    "import seaborn as sns\n",
    "from datetime import datetime\n",
    "import plotly.express as px\n",
    "# try:\n",
    "#     import prophet\n",
    "# except:\n",
    "#     !pip install fbprophet    # install Facebook Prophet\n",
    "#     import prophet\n",
    "# try:\n",
    "#   from create_feature_set import define_indicators_features\n",
    "# except:\n",
    "#   !wget https://raw.githubusercontent.com/Jpaku93/ML_Stock_Regression/main/create_feature_set.py\n",
    "from create_feature_set import define_indicators_features\n",
    "from pycaret.regression import setup , compare_models , create_model , tune_model , plot_model , predict_model , finalize_model , save_model , load_model, evaluate_model\n",
    "def call_data(URL): ## function to call data TXT FILE\n",
    "    data = pd.read_csv(URL, names=['time', 'open', 'high', 'low', 'close', 'volume'], delimiter = \";\", index_col='time')\n",
    "    data = data.drop_duplicates()\n",
    "    return data\n",
    "\n",
    "# get github txt file url\n",
    "url = 'https://raw.githubusercontent.com/Jpaku93/ML_Stock_Regression/main/MES%2006-21.Last.txt'\n",
    "df = call_data(url)[-1500:]\n",
    "# store time variables\n",
    "time = df.index\n",
    "# get feature dataset\n",
    "features = define_indicators_features(df)\n",
    "features['time'] = pd.to_datetime(time)\n",
    "\n",
    "features['time'] = pd.to_datetime(time)\n",
    "# split training test data\n",
    "train = features[-1000:]\n",
    "test = features[:-1000]\n",
    "# preview data\n",
    "train.head()"
   ]
  },
  {
   "cell_type": "code",
   "execution_count": null,
   "metadata": {},
   "outputs": [],
   "source": []
  }
 ],
 "metadata": {
  "kernelspec": {
   "display_name": "Python 3.9.13 ('NN')",
   "language": "python",
   "name": "python3"
  },
  "language_info": {
   "codemirror_mode": {
    "name": "ipython",
    "version": 3
   },
   "file_extension": ".py",
   "mimetype": "text/x-python",
   "name": "python",
   "nbconvert_exporter": "python",
   "pygments_lexer": "ipython3",
   "version": "3.9.13"
  },
  "orig_nbformat": 4,
  "vscode": {
   "interpreter": {
    "hash": "d2bbf9b39552de518c2cf132a5d3c1482c1c4ab5c51a1ed695cc23bb53034ccb"
   }
  }
 },
 "nbformat": 4,
 "nbformat_minor": 2
}
