{
 "cells": [
  {
   "cell_type": "code",
   "execution_count": null,
   "metadata": {},
   "outputs": [],
   "source": [
    "import numpy as np\n",
    "from tensorflow.keras.models import Sequential\n",
    "from tensorflow.keras.layers import LSTM, Dense\n",
    "\n",
    "# define the time series data\n",
    "data = [1, 2, 3, 4, 5, 6, 7, 8, 9, 10]\n",
    "\n",
    "# create an LSTM model\n",
    "model = Sequential()\n",
    "model.add(LSTM(10, input_shape=(1, 1)))\n",
    "model.add(Dense(1))\n",
    "model.compile(optimizer='adam', loss='mse')\n",
    "\n",
    "# fit the model to the data\n",
    "X = np.array(data).reshape(-1, 1, 1)\n",
    "model.fit(X, data, epochs=100)\n",
    "\n",
    "# use the model to predict the next 3 days of data\n",
    "predictions = model.predict(np.array([len(data), len(data)+1, len(data)+2]).reshape(-1, 1, 1))\n",
    "\n",
    "# print the predictions\n",
    "print(predictions)\n"
   ]
  }
 ],
 "metadata": {
  "language_info": {
   "name": "python"
  },
  "orig_nbformat": 4
 },
 "nbformat": 4,
 "nbformat_minor": 2
}
